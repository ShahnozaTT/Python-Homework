{
 "cells": [
  {
   "cell_type": "code",
   "execution_count": 8,
   "id": "dd41b21f",
   "metadata": {},
   "outputs": [
    {
     "data": {
      "text/html": [
       "<div>\n",
       "<style scoped>\n",
       "    .dataframe tbody tr th:only-of-type {\n",
       "        vertical-align: middle;\n",
       "    }\n",
       "\n",
       "    .dataframe tbody tr th {\n",
       "        vertical-align: top;\n",
       "    }\n",
       "\n",
       "    .dataframe thead th {\n",
       "        text-align: right;\n",
       "    }\n",
       "</style>\n",
       "<table border=\"1\" class=\"dataframe\">\n",
       "  <thead>\n",
       "    <tr style=\"text-align: right;\">\n",
       "      <th></th>\n",
       "      <th>Student_ID</th>\n",
       "      <th>Math</th>\n",
       "      <th>English</th>\n",
       "      <th>Science</th>\n",
       "    </tr>\n",
       "  </thead>\n",
       "  <tbody>\n",
       "    <tr>\n",
       "      <th>0</th>\n",
       "      <td>1</td>\n",
       "      <td>85</td>\n",
       "      <td>78</td>\n",
       "      <td>90</td>\n",
       "    </tr>\n",
       "    <tr>\n",
       "      <th>1</th>\n",
       "      <td>2</td>\n",
       "      <td>90</td>\n",
       "      <td>85</td>\n",
       "      <td>92</td>\n",
       "    </tr>\n",
       "    <tr>\n",
       "      <th>2</th>\n",
       "      <td>3</td>\n",
       "      <td>78</td>\n",
       "      <td>88</td>\n",
       "      <td>85</td>\n",
       "    </tr>\n",
       "    <tr>\n",
       "      <th>3</th>\n",
       "      <td>4</td>\n",
       "      <td>92</td>\n",
       "      <td>80</td>\n",
       "      <td>88</td>\n",
       "    </tr>\n",
       "    <tr>\n",
       "      <th>4</th>\n",
       "      <td>5</td>\n",
       "      <td>88</td>\n",
       "      <td>92</td>\n",
       "      <td>94</td>\n",
       "    </tr>\n",
       "    <tr>\n",
       "      <th>5</th>\n",
       "      <td>6</td>\n",
       "      <td>95</td>\n",
       "      <td>87</td>\n",
       "      <td>79</td>\n",
       "    </tr>\n",
       "    <tr>\n",
       "      <th>6</th>\n",
       "      <td>7</td>\n",
       "      <td>89</td>\n",
       "      <td>90</td>\n",
       "      <td>83</td>\n",
       "    </tr>\n",
       "    <tr>\n",
       "      <th>7</th>\n",
       "      <td>8</td>\n",
       "      <td>79</td>\n",
       "      <td>84</td>\n",
       "      <td>91</td>\n",
       "    </tr>\n",
       "    <tr>\n",
       "      <th>8</th>\n",
       "      <td>9</td>\n",
       "      <td>83</td>\n",
       "      <td>79</td>\n",
       "      <td>87</td>\n",
       "    </tr>\n",
       "    <tr>\n",
       "      <th>9</th>\n",
       "      <td>10</td>\n",
       "      <td>91</td>\n",
       "      <td>88</td>\n",
       "      <td>89</td>\n",
       "    </tr>\n",
       "  </tbody>\n",
       "</table>\n",
       "</div>"
      ],
      "text/plain": [
       "   Student_ID  Math  English  Science\n",
       "0           1    85       78       90\n",
       "1           2    90       85       92\n",
       "2           3    78       88       85\n",
       "3           4    92       80       88\n",
       "4           5    88       92       94\n",
       "5           6    95       87       79\n",
       "6           7    89       90       83\n",
       "7           8    79       84       91\n",
       "8           9    83       79       87\n",
       "9          10    91       88       89"
      ]
     },
     "execution_count": 8,
     "metadata": {},
     "output_type": "execute_result"
    }
   ],
   "source": [
    "# Homework:\n",
    "# DataFrame 1: Student Grades\n",
    "\n",
    "import pandas as pd\n",
    "import matplotlib.pyplot as plt\n",
    "\n",
    "data = {\n",
    "    'Student_ID': [1, 2, 3, 4, 5, 6, 7, 8, 9, 10],\n",
    "    'Math': [85, 90, 78, 92, 88, 95, 89, 79, 83, 91],\n",
    "    'English': [78, 85, 88, 80, 92, 87, 90, 84, 79, 88],\n",
    "    'Science': [90, 92, 85, 88, 94, 79, 83, 91, 87, 89]\n",
    "}\n",
    "student_data = pd.DataFrame(data)\n",
    "student_data"
   ]
  },
  {
   "cell_type": "code",
   "execution_count": 9,
   "id": "7f2db96b",
   "metadata": {},
   "outputs": [
    {
     "name": "stdout",
     "output_type": "stream",
     "text": [
      "   Student_ID  Average_grade\n",
      "0           1      84.333333\n",
      "1           2      89.000000\n",
      "2           3      83.666667\n",
      "3           4      86.666667\n",
      "4           5      91.333333\n",
      "5           6      87.000000\n",
      "6           7      87.333333\n",
      "7           8      84.666667\n",
      "8           9      83.000000\n",
      "9          10      89.333333\n"
     ]
    }
   ],
   "source": [
    "# Exercise 1: Calculate the average grade for each student.\n",
    "\n",
    "student_data['Average_grade'] = student_data[['Math', 'English', 'Science']].mean(axis=1)\n",
    "print(student_data[['Student_ID', 'Average_grade']])"
   ]
  },
  {
   "cell_type": "code",
   "execution_count": 3,
   "id": "c4cd94e0",
   "metadata": {},
   "outputs": [
    {
     "name": "stdout",
     "output_type": "stream",
     "text": [
      "   Student_ID  Math  English  Science  Average_grade\n",
      "4           5    88       92       94      91.333333\n"
     ]
    }
   ],
   "source": [
    "# Exercise 2: Find the student with the highest average grade.\n",
    "\n",
    "top_student = student_data.nlargest(1, 'Average_grade')\n",
    "print(top_student)\n"
   ]
  },
  {
   "cell_type": "code",
   "execution_count": 10,
   "id": "b389ed54",
   "metadata": {},
   "outputs": [
    {
     "name": "stdout",
     "output_type": "stream",
     "text": [
      "   Student_ID  Total\n",
      "0           1    253\n",
      "1           2    267\n",
      "2           3    251\n",
      "3           4    260\n",
      "4           5    274\n",
      "5           6    261\n",
      "6           7    262\n",
      "7           8    254\n",
      "8           9    249\n",
      "9          10    268\n"
     ]
    }
   ],
   "source": [
    "# Exercise 3: Create a new column 'Total' representing the total marks obtained by each student.\n",
    "\n",
    "student_data['Total'] = student_data[['Math', 'English', 'Science']].sum(axis=1)\n",
    "print(student_data[['Student_ID', 'Total']])\n",
    "\n",
    "\n",
    "\n"
   ]
  },
  {
   "cell_type": "code",
   "execution_count": 12,
   "id": "1a5b9ce0",
   "metadata": {},
   "outputs": [
    {
     "data": {
      "image/png": "[encoded data removed]",
      "text/plain": [
       "<Figure size 640x480 with 1 Axes>"
      ]
     },
     "metadata": {},
     "output_type": "display_data"
    }
   ],
   "source": [
    "# Exercise 4: Plot a bar chart to visualize the average grades in each subject.\n",
    "\n",
    "subject_avg = student_data[['Math', 'English', 'Science']].mean()\n",
    "subject_avg.plot(kind='bar', title=\"Average Grades per Subject\")\n",
    "\n",
    "plt.xlabel(\"Subjects\")\n",
    "plt.ylabel(\"Average Grade\")\n",
    "plt.show()"
   ]
  },
  {
   "cell_type": "code",
   "execution_count": 14,
   "id": "a8fafec3",
   "metadata": {},
   "outputs": [
    {
     "data": {
      "text/html": [
       "<div>\n",
       "<style scoped>\n",
       "    .dataframe tbody tr th:only-of-type {\n",
       "        vertical-align: middle;\n",
       "    }\n",
       "\n",
       "    .dataframe tbody tr th {\n",
       "        vertical-align: top;\n",
       "    }\n",
       "\n",
       "    .dataframe thead th {\n",
       "        text-align: right;\n",
       "    }\n",
       "</style>\n",
       "<table border=\"1\" class=\"dataframe\">\n",
       "  <thead>\n",
       "    <tr style=\"text-align: right;\">\n",
       "      <th></th>\n",
       "      <th>Date</th>\n",
       "      <th>Product_A</th>\n",
       "      <th>Product_B</th>\n",
       "      <th>Product_C</th>\n",
       "    </tr>\n",
       "  </thead>\n",
       "  <tbody>\n",
       "    <tr>\n",
       "      <th>0</th>\n",
       "      <td>2023-01-01</td>\n",
       "      <td>120</td>\n",
       "      <td>90</td>\n",
       "      <td>75</td>\n",
       "    </tr>\n",
       "    <tr>\n",
       "      <th>1</th>\n",
       "      <td>2023-01-02</td>\n",
       "      <td>150</td>\n",
       "      <td>110</td>\n",
       "      <td>80</td>\n",
       "    </tr>\n",
       "    <tr>\n",
       "      <th>2</th>\n",
       "      <td>2023-01-03</td>\n",
       "      <td>130</td>\n",
       "      <td>100</td>\n",
       "      <td>85</td>\n",
       "    </tr>\n",
       "    <tr>\n",
       "      <th>3</th>\n",
       "      <td>2023-01-04</td>\n",
       "      <td>110</td>\n",
       "      <td>80</td>\n",
       "      <td>70</td>\n",
       "    </tr>\n",
       "    <tr>\n",
       "      <th>4</th>\n",
       "      <td>2023-01-05</td>\n",
       "      <td>140</td>\n",
       "      <td>95</td>\n",
       "      <td>88</td>\n",
       "    </tr>\n",
       "    <tr>\n",
       "      <th>5</th>\n",
       "      <td>2023-01-06</td>\n",
       "      <td>160</td>\n",
       "      <td>105</td>\n",
       "      <td>92</td>\n",
       "    </tr>\n",
       "    <tr>\n",
       "      <th>6</th>\n",
       "      <td>2023-01-07</td>\n",
       "      <td>135</td>\n",
       "      <td>98</td>\n",
       "      <td>78</td>\n",
       "    </tr>\n",
       "    <tr>\n",
       "      <th>7</th>\n",
       "      <td>2023-01-08</td>\n",
       "      <td>125</td>\n",
       "      <td>88</td>\n",
       "      <td>82</td>\n",
       "    </tr>\n",
       "    <tr>\n",
       "      <th>8</th>\n",
       "      <td>2023-01-09</td>\n",
       "      <td>145</td>\n",
       "      <td>102</td>\n",
       "      <td>87</td>\n",
       "    </tr>\n",
       "    <tr>\n",
       "      <th>9</th>\n",
       "      <td>2023-01-10</td>\n",
       "      <td>155</td>\n",
       "      <td>112</td>\n",
       "      <td>90</td>\n",
       "    </tr>\n",
       "  </tbody>\n",
       "</table>\n",
       "</div>"
      ],
      "text/plain": [
       "        Date  Product_A  Product_B  Product_C\n",
       "0 2023-01-01        120         90         75\n",
       "1 2023-01-02        150        110         80\n",
       "2 2023-01-03        130        100         85\n",
       "3 2023-01-04        110         80         70\n",
       "4 2023-01-05        140         95         88\n",
       "5 2023-01-06        160        105         92\n",
       "6 2023-01-07        135         98         78\n",
       "7 2023-01-08        125         88         82\n",
       "8 2023-01-09        145        102         87\n",
       "9 2023-01-10        155        112         90"
      ]
     },
     "execution_count": 14,
     "metadata": {},
     "output_type": "execute_result"
    }
   ],
   "source": [
    "# DataFrame 2: Sales Data\n",
    "\n",
    "import pandas as pd\n",
    "\n",
    "data = {\n",
    "    'Date': pd.date_range(start='2023-01-01', periods=10),\n",
    "    'Product_A': [120, 150, 130, 110, 140, 160, 135, 125, 145, 155],\n",
    "    'Product_B': [90, 110, 100, 80, 95, 105, 98, 88, 102, 112],\n",
    "    'Product_C': [75, 80, 85, 70, 88, 92, 78, 82, 87, 90]\n",
    "}\n",
    "\n",
    "Products = pd.DataFrame(data)\n",
    "Products\n"
   ]
  },
  {
   "cell_type": "code",
   "execution_count": 17,
   "id": "5da31c69",
   "metadata": {},
   "outputs": [
    {
     "name": "stdout",
     "output_type": "stream",
     "text": [
      "Total sales for each product:\n",
      " Product_A    1370\n",
      "Product_B     980\n",
      "Product_C     827\n",
      "dtype: int64\n"
     ]
    }
   ],
   "source": [
    "# Exercise 1: Calculate the total sales for each product.\n",
    "\n",
    "total_sales = Products[['Product_A', 'Product_B', 'Product_C']].sum()\n",
    "print(\"Total sales for each product:\\n\", total_sales)"
   ]
  },
  {
   "cell_type": "code",
   "execution_count": 19,
   "id": "7def1b6b",
   "metadata": {},
   "outputs": [
    {
     "name": "stdout",
     "output_type": "stream",
     "text": [
      "        Date  Total\n",
      "5 2023-01-06    357\n"
     ]
    }
   ],
   "source": [
    "# Exercise 2: Find the date with the highest total sales.\n",
    "\n",
    "top_sale = Products.nlargest(1, 'Total')\n",
    "print(top_sale[['Date', 'Total']])"
   ]
  },
  {
   "cell_type": "code",
   "execution_count": 20,
   "id": "8dae31f2",
   "metadata": {},
   "outputs": [
    {
     "name": "stdout",
     "output_type": "stream",
     "text": [
      "\n",
      "Percentage change in sales (%):\n",
      "    Product_A  Product_B  Product_C\n",
      "0        NaN        NaN        NaN\n",
      "1  25.000000  22.222222   6.666667\n",
      "2 -13.333333  -9.090909   6.250000\n",
      "3 -15.384615 -20.000000 -17.647059\n",
      "4  27.272727  18.750000  25.714286\n",
      "5  14.285714  10.526316   4.545455\n",
      "6 -15.625000  -6.666667 -15.217391\n",
      "7  -7.407407 -10.204082   5.128205\n",
      "8  16.000000  15.909091   6.097561\n",
      "9   6.896552   9.803922   3.448276\n"
     ]
    }
   ],
   "source": [
    "# Exercise 3: Calculate the percentage change in sales for each product from the previous day.\n",
    "\n",
    "pct_change = Products[['Product_A', 'Product_B', 'Product_C']].pct_change() * 100\n",
    "print(\"\\nPercentage change in sales (%):\\n\", pct_change)"
   ]
  },
  {
   "cell_type": "code",
   "execution_count": 21,
   "id": "f6604eea",
   "metadata": {},
   "outputs": [
    {
     "data": {
      "image/png": "[encoded data removed]",
      "text/plain": [
       "<Figure size 640x480 with 1 Axes>"
      ]
     },
     "metadata": {},
     "output_type": "display_data"
    }
   ],
   "source": [
    "# Exercise 4: Plot a line chart to visualize the sales trends for each product over time.\n",
    "\n",
    "import matplotlib.pyplot as plt\n",
    "\n",
    "df2.plot(x='Date', y=['Product_A', 'Product_B', 'Product_C'], kind='line', marker='o')\n",
    "plt.title(\"Sales Trends Over Time\")\n",
    "plt.xlabel(\"Date\")\n",
    "plt.ylabel(\"Sales\")\n",
    "plt.grid(True)\n",
    "plt.show()"
   ]
  },
  {
   "cell_type": "code",
   "execution_count": 23,
   "id": "d33d4a94",
   "metadata": {},
   "outputs": [
    {
     "data": {
      "text/html": [
       "<div>\n",
       "<style scoped>\n",
       "    .dataframe tbody tr th:only-of-type {\n",
       "        vertical-align: middle;\n",
       "    }\n",
       "\n",
       "    .dataframe tbody tr th {\n",
       "        vertical-align: top;\n",
       "    }\n",
       "\n",
       "    .dataframe thead th {\n",
       "        text-align: right;\n",
       "    }\n",
       "</style>\n",
       "<table border=\"1\" class=\"dataframe\">\n",
       "  <thead>\n",
       "    <tr style=\"text-align: right;\">\n",
       "      <th></th>\n",
       "      <th>Employee_ID</th>\n",
       "      <th>Name</th>\n",
       "      <th>Department</th>\n",
       "      <th>Salary</th>\n",
       "      <th>Experience (Years)</th>\n",
       "    </tr>\n",
       "  </thead>\n",
       "  <tbody>\n",
       "    <tr>\n",
       "      <th>0</th>\n",
       "      <td>101</td>\n",
       "      <td>Alice</td>\n",
       "      <td>HR</td>\n",
       "      <td>60000</td>\n",
       "      <td>3</td>\n",
       "    </tr>\n",
       "    <tr>\n",
       "      <th>1</th>\n",
       "      <td>102</td>\n",
       "      <td>Bob</td>\n",
       "      <td>IT</td>\n",
       "      <td>75000</td>\n",
       "      <td>5</td>\n",
       "    </tr>\n",
       "    <tr>\n",
       "      <th>2</th>\n",
       "      <td>103</td>\n",
       "      <td>Charlie</td>\n",
       "      <td>Marketing</td>\n",
       "      <td>65000</td>\n",
       "      <td>2</td>\n",
       "    </tr>\n",
       "    <tr>\n",
       "      <th>3</th>\n",
       "      <td>104</td>\n",
       "      <td>David</td>\n",
       "      <td>IT</td>\n",
       "      <td>80000</td>\n",
       "      <td>8</td>\n",
       "    </tr>\n",
       "    <tr>\n",
       "      <th>4</th>\n",
       "      <td>105</td>\n",
       "      <td>Emma</td>\n",
       "      <td>Finance</td>\n",
       "      <td>70000</td>\n",
       "      <td>4</td>\n",
       "    </tr>\n",
       "    <tr>\n",
       "      <th>5</th>\n",
       "      <td>106</td>\n",
       "      <td>Frank</td>\n",
       "      <td>HR</td>\n",
       "      <td>72000</td>\n",
       "      <td>6</td>\n",
       "    </tr>\n",
       "    <tr>\n",
       "      <th>6</th>\n",
       "      <td>107</td>\n",
       "      <td>Grace</td>\n",
       "      <td>Marketing</td>\n",
       "      <td>68000</td>\n",
       "      <td>3</td>\n",
       "    </tr>\n",
       "    <tr>\n",
       "      <th>7</th>\n",
       "      <td>108</td>\n",
       "      <td>Hank</td>\n",
       "      <td>IT</td>\n",
       "      <td>78000</td>\n",
       "      <td>7</td>\n",
       "    </tr>\n",
       "    <tr>\n",
       "      <th>8</th>\n",
       "      <td>109</td>\n",
       "      <td>Ivy</td>\n",
       "      <td>Finance</td>\n",
       "      <td>69000</td>\n",
       "      <td>2</td>\n",
       "    </tr>\n",
       "    <tr>\n",
       "      <th>9</th>\n",
       "      <td>110</td>\n",
       "      <td>Jack</td>\n",
       "      <td>Marketing</td>\n",
       "      <td>76000</td>\n",
       "      <td>5</td>\n",
       "    </tr>\n",
       "  </tbody>\n",
       "</table>\n",
       "</div>"
      ],
      "text/plain": [
       "   Employee_ID     Name Department  Salary  Experience (Years)\n",
       "0          101    Alice         HR   60000                   3\n",
       "1          102      Bob         IT   75000                   5\n",
       "2          103  Charlie  Marketing   65000                   2\n",
       "3          104    David         IT   80000                   8\n",
       "4          105     Emma    Finance   70000                   4\n",
       "5          106    Frank         HR   72000                   6\n",
       "6          107    Grace  Marketing   68000                   3\n",
       "7          108     Hank         IT   78000                   7\n",
       "8          109      Ivy    Finance   69000                   2\n",
       "9          110     Jack  Marketing   76000                   5"
      ]
     },
     "execution_count": 23,
     "metadata": {},
     "output_type": "execute_result"
    }
   ],
   "source": [
    "# DataFrame 3: Employee Information\n",
    "\n",
    "import pandas as pd\n",
    "\n",
    "data3 = {\n",
    "    'Employee_ID': [101, 102, 103, 104, 105, 106, 107, 108, 109, 110],\n",
    "    'Name': ['Alice', 'Bob', 'Charlie', 'David', 'Emma', 'Frank', 'Grace', 'Hank', 'Ivy', 'Jack'],\n",
    "    'Department': ['HR', 'IT', 'Marketing', 'IT', 'Finance', 'HR', 'Marketing', 'IT', 'Finance', 'Marketing'],\n",
    "    'Salary': [60000, 75000, 65000, 80000, 70000, 72000, 68000, 78000, 69000, 76000],\n",
    "    'Experience (Years)': [3, 5, 2, 8, 4, 6, 3, 7, 2, 5]\n",
    "}\n",
    "\n",
    "df3 = pd.DataFrame(data3)\n",
    "df3"
   ]
  },
  {
   "cell_type": "code",
   "execution_count": 26,
   "id": "eaefeff8",
   "metadata": {},
   "outputs": [
    {
     "name": "stdout",
     "output_type": "stream",
     "text": [
      "Department\n",
      "Finance      69500.000000\n",
      "HR           66000.000000\n",
      "IT           77666.666667\n",
      "Marketing    69666.666667\n",
      "Name: Salary, dtype: float64\n"
     ]
    }
   ],
   "source": [
    "# Exercise 1: Calculate the average salary for each department.\n",
    "\n",
    "avg_salary = df3.groupby(\"Department\")[\"Salary\"].mean()\n",
    "\n",
    "print(avg_salary)"
   ]
  },
  {
   "cell_type": "code",
   "execution_count": 28,
   "id": "c2487cde",
   "metadata": {},
   "outputs": [
    {
     "name": "stdout",
     "output_type": "stream",
     "text": [
      "   Employee_ID   Name Department  Experience (Years)\n",
      "3          104  David         IT                   8\n"
     ]
    }
   ],
   "source": [
    "# Exercise 2: Find the employee with the most experience.\n",
    "\n",
    "top_emp = df3.nlargest(1, 'Experience (Years)')\n",
    "print(top_emp[['Employee_ID', 'Name', 'Department', 'Experience (Years)']])"
   ]
  },
  {
   "cell_type": "code",
   "execution_count": 30,
   "id": "53149f8a",
   "metadata": {},
   "outputs": [
    {
     "name": "stdout",
     "output_type": "stream",
     "text": [
      "   Employee_ID     Name  Salary  Salary Increase\n",
      "0          101    Alice   60000         0.000000\n",
      "1          102      Bob   75000        25.000000\n",
      "2          103  Charlie   65000         8.333333\n",
      "3          104    David   80000        33.333333\n",
      "4          105     Emma   70000        16.666667\n",
      "5          106    Frank   72000        20.000000\n",
      "6          107    Grace   68000        13.333333\n",
      "7          108     Hank   78000        30.000000\n",
      "8          109      Ivy   69000        15.000000\n",
      "9          110     Jack   76000        26.666667\n"
     ]
    }
   ],
   "source": [
    "# Exercise 3: Create a new column 'Salary Increase' representing the percentage increase in salary from the minimum salary in the dataframe.\n",
    "\n",
    "min_salary = df3['Salary'].min()\n",
    "\n",
    "df3['Salary Increase'] = ((df3['Salary'] - min_salary) / min_salary) * 100\n",
    "\n",
    "print(df3[['Employee_ID', 'Name', 'Salary', 'Salary Increase']])\n",
    "\n"
   ]
  },
  {
   "cell_type": "code",
   "execution_count": 31,
   "id": "da0a1507",
   "metadata": {},
   "outputs": [
    {
     "data": {
      "image/png": "[encoded data removed]",
      "text/plain": [
       "<Figure size 640x480 with 1 Axes>"
      ]
     },
     "metadata": {},
     "output_type": "display_data"
    }
   ],
   "source": [
    "# Exercise 4: Plot a bar chart to visualize the distribution of employees across different departments.\n",
    "\n",
    "import matplotlib.pyplot as plt\n",
    "\n",
    "# Считаем сотрудников по департаментам\n",
    "dept_counts = df3['Department'].value_counts()\n",
    "\n",
    "# Строим bar chart\n",
    "dept_counts.plot(kind='bar', color='skyblue', edgecolor='black')\n",
    "\n",
    "# Настройки графика\n",
    "plt.title('Distribution of Employees Across Departments')\n",
    "plt.xlabel('Department')\n",
    "plt.ylabel('Number of Employees')\n",
    "plt.xticks(rotation=45)\n",
    "plt.show()\n"
   ]
  },
  {
   "cell_type": "code",
   "execution_count": 33,
   "id": "1f711b5d",
   "metadata": {},
   "outputs": [
    {
     "data": {
      "text/html": [
       "<div>\n",
       "<style scoped>\n",
       "    .dataframe tbody tr th:only-of-type {\n",
       "        vertical-align: middle;\n",
       "    }\n",
       "\n",
       "    .dataframe tbody tr th {\n",
       "        vertical-align: top;\n",
       "    }\n",
       "\n",
       "    .dataframe thead th {\n",
       "        text-align: right;\n",
       "    }\n",
       "</style>\n",
       "<table border=\"1\" class=\"dataframe\">\n",
       "  <thead>\n",
       "    <tr style=\"text-align: right;\">\n",
       "      <th></th>\n",
       "      <th>Order_ID</th>\n",
       "      <th>Customer_ID</th>\n",
       "      <th>Product</th>\n",
       "      <th>Quantity</th>\n",
       "      <th>Total_Price</th>\n",
       "    </tr>\n",
       "  </thead>\n",
       "  <tbody>\n",
       "    <tr>\n",
       "      <th>0</th>\n",
       "      <td>101</td>\n",
       "      <td>201</td>\n",
       "      <td>A</td>\n",
       "      <td>2</td>\n",
       "      <td>120</td>\n",
       "    </tr>\n",
       "    <tr>\n",
       "      <th>1</th>\n",
       "      <td>102</td>\n",
       "      <td>202</td>\n",
       "      <td>B</td>\n",
       "      <td>3</td>\n",
       "      <td>180</td>\n",
       "    </tr>\n",
       "    <tr>\n",
       "      <th>2</th>\n",
       "      <td>103</td>\n",
       "      <td>203</td>\n",
       "      <td>A</td>\n",
       "      <td>1</td>\n",
       "      <td>60</td>\n",
       "    </tr>\n",
       "    <tr>\n",
       "      <th>3</th>\n",
       "      <td>104</td>\n",
       "      <td>204</td>\n",
       "      <td>C</td>\n",
       "      <td>4</td>\n",
       "      <td>240</td>\n",
       "    </tr>\n",
       "    <tr>\n",
       "      <th>4</th>\n",
       "      <td>105</td>\n",
       "      <td>205</td>\n",
       "      <td>B</td>\n",
       "      <td>2</td>\n",
       "      <td>160</td>\n",
       "    </tr>\n",
       "    <tr>\n",
       "      <th>5</th>\n",
       "      <td>106</td>\n",
       "      <td>206</td>\n",
       "      <td>C</td>\n",
       "      <td>3</td>\n",
       "      <td>270</td>\n",
       "    </tr>\n",
       "    <tr>\n",
       "      <th>6</th>\n",
       "      <td>107</td>\n",
       "      <td>207</td>\n",
       "      <td>A</td>\n",
       "      <td>2</td>\n",
       "      <td>140</td>\n",
       "    </tr>\n",
       "    <tr>\n",
       "      <th>7</th>\n",
       "      <td>108</td>\n",
       "      <td>208</td>\n",
       "      <td>C</td>\n",
       "      <td>5</td>\n",
       "      <td>300</td>\n",
       "    </tr>\n",
       "    <tr>\n",
       "      <th>8</th>\n",
       "      <td>109</td>\n",
       "      <td>209</td>\n",
       "      <td>B</td>\n",
       "      <td>1</td>\n",
       "      <td>90</td>\n",
       "    </tr>\n",
       "    <tr>\n",
       "      <th>9</th>\n",
       "      <td>110</td>\n",
       "      <td>210</td>\n",
       "      <td>A</td>\n",
       "      <td>3</td>\n",
       "      <td>180</td>\n",
       "    </tr>\n",
       "  </tbody>\n",
       "</table>\n",
       "</div>"
      ],
      "text/plain": [
       "   Order_ID  Customer_ID Product  Quantity  Total_Price\n",
       "0       101          201       A         2          120\n",
       "1       102          202       B         3          180\n",
       "2       103          203       A         1           60\n",
       "3       104          204       C         4          240\n",
       "4       105          205       B         2          160\n",
       "5       106          206       C         3          270\n",
       "6       107          207       A         2          140\n",
       "7       108          208       C         5          300\n",
       "8       109          209       B         1           90\n",
       "9       110          210       A         3          180"
      ]
     },
     "execution_count": 33,
     "metadata": {},
     "output_type": "execute_result"
    }
   ],
   "source": [
    "# DataFrame 4: Customer Orders\n",
    "\n",
    "import pandas as pd\n",
    "\n",
    "data4 = {\n",
    "    'Order_ID': [101, 102, 103, 104, 105, 106, 107, 108, 109, 110],\n",
    "    'Customer_ID': [201, 202, 203, 204, 205, 206, 207, 208, 209, 210],\n",
    "    'Product': ['A', 'B', 'A', 'C', 'B', 'C', 'A', 'C', 'B', 'A'],\n",
    "    'Quantity': [2, 3, 1, 4, 2, 3, 2, 5, 1, 3],\n",
    "    'Total_Price': [120, 180, 60, 240, 160, 270, 140, 300, 90, 180]\n",
    "}\n",
    "\n",
    "df4 = pd.DataFrame(data4)\n",
    "df4"
   ]
  },
  {
   "cell_type": "code",
   "execution_count": 34,
   "id": "7c15c25e",
   "metadata": {},
   "outputs": [
    {
     "name": "stdout",
     "output_type": "stream",
     "text": [
      "Total Revenue: 1740\n",
      "Most Ordered Product: A\n",
      "Average Quantity Ordered: 2.6\n"
     ]
    },
    {
     "data": {
      "image/png": "[encoded data removed]",
      "text/plain": [
       "<Figure size 600x600 with 1 Axes>"
      ]
     },
     "metadata": {},
     "output_type": "display_data"
    }
   ],
   "source": [
    "\n",
    "# -------------------------------\n",
    "# Exercise 1: Calculate total revenue\n",
    "# -------------------------------\n",
    "total_revenue = df4['Total_Price'].sum()\n",
    "print(\"Total Revenue:\", total_revenue)\n",
    "\n",
    "# -------------------------------\n",
    "# Exercise 2: Find the most ordered product\n",
    "# -------------------------------\n",
    "most_ordered_product = df4['Product'].value_counts().idxmax()\n",
    "print(\"Most Ordered Product:\", most_ordered_product)\n",
    "\n",
    "# -------------------------------\n",
    "# Exercise 3: Average quantity of products ordered\n",
    "# -------------------------------\n",
    "avg_quantity = df4['Quantity'].mean()\n",
    "print(\"Average Quantity Ordered:\", avg_quantity)\n",
    "\n",
    "# -------------------------------\n",
    "# Exercise 4: Pie chart of sales distribution\n",
    "# -------------------------------\n",
    "sales_by_product = df4.groupby('Product')['Total_Price'].sum()\n",
    "sales_by_product.plot(kind='pie', autopct='%1.1f%%', figsize=(6,6))\n",
    "plt.title(\"Sales Distribution by Product\")\n",
    "plt.ylabel(\"\")  # убрать подпись \"Total_Price\"\n",
    "plt.show()\n"
   ]
  },
  {
   "cell_type": "code",
   "execution_count": null,
   "id": "707fde2b",
   "metadata": {},
   "outputs": [],
   "source": []
  },
  {
   "cell_type": "code",
   "execution_count": null,
   "id": "02c54996",
   "metadata": {},
   "outputs": [],
   "source": []
  },
  {
   "cell_type": "code",
   "execution_count": null,
   "id": "cc861ecf",
   "metadata": {},
   "outputs": [],
   "source": []
  }
 ],
 "metadata": {
  "kernelspec": {
   "display_name": "Python 3",
   "language": "python",
   "name": "python3"
  },
  "language_info": {
   "codemirror_mode": {
    "name": "ipython",
    "version": 3
   },
   "file_extension": ".py",
   "mimetype": "text/x-python",
   "name": "python",
   "nbconvert_exporter": "python",
   "pygments_lexer": "ipython3",
   "version": "3.13.5"
  }
 },
 "nbformat": 4,
 "nbformat_minor": 5
}
